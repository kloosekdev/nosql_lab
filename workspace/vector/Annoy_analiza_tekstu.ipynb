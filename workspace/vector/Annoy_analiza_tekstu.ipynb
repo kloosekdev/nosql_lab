{
 "cells": [
  {
   "cell_type": "markdown",
   "metadata": {},
   "source": [
    "Run: docker compose up -d"
   ]
  },
  {
   "cell_type": "code",
   "execution_count": 33,
   "metadata": {},
   "outputs": [],
   "source": [
    "import os\n",
    "\n",
    "from sentence_transformers import SentenceTransformer\n",
    "from annoy import AnnoyIndex"
   ]
  },
  {
   "cell_type": "code",
   "execution_count": null,
   "metadata": {},
   "outputs": [],
   "source": [
    "METRIC_TYPE = \"angular\" # euclidean, manhattan - Która metoda ma być użyta do porównywania\n",
    "TREES_NUMBER = 10       # Ilość drzew do utworzenia\n",
    "TEXT_TO_SEARCH = 30     # Numer sentencji do porównania\n",
    "NN_NUMBER = 5           # Ilość sąsiadów do odszukania"
   ]
  },
  {
   "cell_type": "code",
   "execution_count": 35,
   "metadata": {},
   "outputs": [],
   "source": [
    "# Zestaw danych - 10 przykładowych zdań\n",
    "sentences = [\n",
    "    \"Słońce świeci na niebie.\", # 0\n",
    "    \"Dzisiaj jest piękna pogoda.\",\n",
    "    \"Lubię uczyć się programowania.\",\n",
    "    \"Python to popularny język programowania.\",\n",
    "    \"Wieczorem często czytam książki.\",\n",
    "    \"Mój pies lubi biegać po parku.\",\n",
    "    \"Programowanie to świetna zabawa.\",\n",
    "    \"Niebo jest dziś bardzo niebieskie.\",\n",
    "    \"Czytanie rozwija wyobraźnię.\",\n",
    "    \"Chodzę codziennie na spacer z psem.\",\n",
    "    \"Lubię Mazury, morze i góry.\", # 10\n",
    "    \"Java to mój ulubiony język programowania.\",\n",
    "    \"Ostatnio częściej programuję w Pythonie\",\n",
    "    \"SQL też nie jest zły.\",\n",
    "    \"Za tydzień jedziemy całą ekipą na wakacje w góry.\",\n",
    "    \"Zawsze na wyjazdy wakacyjne zabieramy naszego psa.\",\n",
    "    \"Dostałem wczoraj mandat za przektoczenie predkości.\",\n",
    "    \"Jazda moim Porshe wyzwala we mnie mega emocje.\",\n",
    "    \"Kolarstwo górskie daje mi wiele frajdy.\",\n",
    "    \"Wczoraj byłem w kinie.\",\n",
    "    \"Mam uczulenie na czekoladę ale za to mogę jeść marmoladę.\", # 20\n",
    "    \"Najlepsze pączki są z marmoladą i lukrem.\",\n",
    "    \"Twój tort urodzinowy był pyszny.\",\n",
    "    \"Od roku ograniczam cukier i czuję sie wyśmienicie.\",\n",
    "    \"Wczoraj kupiłem poradnik pt. Dieta dla każdego.\",\n",
    "    \"Sposób odżywiania ma wpływ na nasze samopoczucie.\",\n",
    "    \"Właśnie skończyłem czytać fajną książkę.\",\n",
    "    \"Czytanie książek to moja ulubiona zabawa.\",\n",
    "    \"Wczoraj byłem w bibliotek i wypożyczyłem kilka książek na temat programowania.\",\n",
    "    \"Wczoraj wróciliśmy z wakacji z Mazur.\",\n",
    "    \"Mój pies lubi gonić koty.\" # 30\n",
    "]"
   ]
  },
  {
   "cell_type": "code",
   "execution_count": 36,
   "metadata": {},
   "outputs": [
    {
     "name": "stdout",
     "output_type": "stream",
     "text": [
      "Indeks już istnieje: index_annoy/sentences.ann\n"
     ]
    },
    {
     "data": {
      "text/plain": [
       "True"
      ]
     },
     "execution_count": 36,
     "metadata": {},
     "output_type": "execute_result"
    }
   ],
   "source": [
    "# Ładowanie modelu do tworzenia osadzeń (embeddingów) zdań\n",
    "model = SentenceTransformer('all-MiniLM-L6-v2')  # lekki i szybki model\n",
    "\n",
    "# Tworzenie embeddingów dla każdego zdania\n",
    "embeddings = model.encode(sentences)  # embedding = wektor liczb reprezentujących znaczenie zdania\n",
    "vector_dim = len(embeddings[0])       # wymiar embeddingu, np. 384\n",
    "\n",
    "# Ścieżka do pliku z indeksem\n",
    "index_file = \"index_annoy/sentences.ann\"\n",
    "\n",
    "# Tworzenie i budowanie indeksu tylko jeśli nie istnieje\n",
    "if not os.path.exists(index_file):\n",
    "    index = AnnoyIndex(vector_dim, METRIC_TYPE)\n",
    "    for i, vec in enumerate(embeddings):\n",
    "        index.add_item(i, vec)\n",
    "    # Budowanie drzewa wyszukiwania (10 drzew – więcej = lepsza jakość, wolniejsze budowanie\n",
    "    index.build(TREES_NUMBER)\n",
    "    index.save(index_file)\n",
    "    print(f\"Indeks zapisany do pliku: {index_file}\")\n",
    "else:\n",
    "    print(f\"Indeks już istnieje: {index_file}\")\n",
    "\n",
    "# Tworzenie indeksu Annoy z metryką 'angular' (opartą na kącie między wektorami)\n",
    "index = AnnoyIndex(vector_dim, METRIC_TYPE)\n",
    "index.load(index_file)"
   ]
  },
  {
   "cell_type": "code",
   "execution_count": 37,
   "metadata": {},
   "outputs": [
    {
     "name": "stdout",
     "output_type": "stream",
     "text": [
      "Zapytanie: Mój pies lubi gonić koty.\n"
     ]
    }
   ],
   "source": [
    "# Przykład zapytania – wyszukujemy zdania podobne do zdania nr 2\n",
    "query_id = TEXT_TO_SEARCH\n",
    "print(f\"Zapytanie: {sentences[query_id]}\")"
   ]
  },
  {
   "cell_type": "code",
   "execution_count": 38,
   "metadata": {},
   "outputs": [
    {
     "name": "stdout",
     "output_type": "stream",
     "text": [
      "\n",
      "Najbardziej podobne zdania:\n",
      "- \"Mój pies lubi gonić koty.\" (odległość: 0.0000)\n",
      "- \"Mój pies lubi biegać po parku.\" (odległość: 0.6589)\n",
      "- \"Dzisiaj jest piękna pogoda.\" (odległość: 0.9895)\n",
      "- \"Czytanie książek to moja ulubiona zabawa.\" (odległość: 1.0453)\n",
      "- \"Kolarstwo górskie daje mi wiele frajdy.\" (odległość: 1.0627)\n"
     ]
    }
   ],
   "source": [
    "# Wyszukiwanie 3 najbardziej podobnych zdań (bez samego zapytania)\n",
    "nearest_ids = index.get_nns_by_item(query_id, NN_NUMBER, include_distances=True)\n",
    "\n",
    "# Wyświetlenie wyników\n",
    "print(\"\\nNajbardziej podobne zdania:\")\n",
    "for idx, dist in zip(*nearest_ids):\n",
    "    print(f\"- \\\"{sentences[idx]}\\\" (odległość: {dist:.4f})\")\n"
   ]
  }
 ],
 "metadata": {
  "kernelspec": {
   "display_name": "nosql_venv",
   "language": "python",
   "name": "python3"
  },
  "language_info": {
   "codemirror_mode": {
    "name": "ipython",
    "version": 3
   },
   "file_extension": ".py",
   "mimetype": "text/x-python",
   "name": "python",
   "nbconvert_exporter": "python",
   "pygments_lexer": "ipython3",
   "version": "3.11.2"
  }
 },
 "nbformat": 4,
 "nbformat_minor": 2
}
