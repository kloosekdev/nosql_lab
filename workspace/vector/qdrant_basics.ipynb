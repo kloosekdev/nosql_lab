{
 "cells": [
  {
   "cell_type": "markdown",
   "metadata": {},
   "source": [
    "Run: docker compose up -d"
   ]
  },
  {
   "cell_type": "code",
   "execution_count": 10,
   "metadata": {},
   "outputs": [],
   "source": [
    "from qdrant_client import QdrantClient\n",
    "from qdrant_client.models import VectorParams, Distance, PointsSelector, PointIdsList\n",
    "\n",
    "client = QdrantClient(host=\"qdrant_nosql_lab\", port=6333)\n"
   ]
  },
  {
   "cell_type": "markdown",
   "metadata": {},
   "source": [
    "### Tworzenie / nadpisanie kolekcji"
   ]
  },
  {
   "cell_type": "code",
   "execution_count": 11,
   "metadata": {},
   "outputs": [
    {
     "name": "stderr",
     "output_type": "stream",
     "text": [
      "/tmp/ipykernel_336/332858613.py:1: DeprecationWarning: `recreate_collection` method is deprecated and will be removed in the future. Use `collection_exists` to check collection existence and `create_collection` instead.\n",
      "  client.recreate_collection(\n"
     ]
    },
    {
     "data": {
      "text/plain": [
       "True"
      ]
     },
     "execution_count": 11,
     "metadata": {},
     "output_type": "execute_result"
    }
   ],
   "source": [
    "client.recreate_collection(\n",
    "    collection_name=\"my_collection\",\n",
    "    vectors_config=VectorParams(size=384, distance=Distance.COSINE)\n",
    ")\n"
   ]
  },
  {
   "cell_type": "markdown",
   "metadata": {},
   "source": [
    "### Sprawdzanie czy kolekcja istnieje"
   ]
  },
  {
   "cell_type": "code",
   "execution_count": 12,
   "metadata": {},
   "outputs": [
    {
     "name": "stdout",
     "output_type": "stream",
     "text": [
      "Istnieje: True\n"
     ]
    }
   ],
   "source": [
    "exists = client.collection_exists(\"my_collection\")\n",
    "print(\"Istnieje:\", exists)\n"
   ]
  },
  {
   "cell_type": "markdown",
   "metadata": {},
   "source": [
    "### Lista wszystkich kolekcji"
   ]
  },
  {
   "cell_type": "code",
   "execution_count": 13,
   "metadata": {},
   "outputs": [
    {
     "name": "stdout",
     "output_type": "stream",
     "text": [
      "collections=[CollectionDescription(name='my_collection')]\n"
     ]
    }
   ],
   "source": [
    "collections = client.get_collections()\n",
    "print(collections)"
   ]
  },
  {
   "cell_type": "markdown",
   "metadata": {},
   "source": [
    "### Dodawanie punktów (danych)"
   ]
  },
  {
   "cell_type": "code",
   "execution_count": 14,
   "metadata": {},
   "outputs": [
    {
     "data": {
      "text/plain": [
       "UpdateResult(operation_id=0, status=<UpdateStatus.COMPLETED: 'completed'>)"
      ]
     },
     "execution_count": 14,
     "metadata": {},
     "output_type": "execute_result"
    }
   ],
   "source": [
    "from qdrant_client.models import PointStruct\n",
    "\n",
    "# Przygotowanie punktów do dodania:\n",
    "# Każdy punkt to obiekt PointStruct z:\n",
    "# - unikalnym ID (np. 0, 1, 2...),\n",
    "# - wektorem (embeddingiem, np. 384-wymiarowym),\n",
    "# - opcjonalnym payloadem (np. tekst lub metadane)\n",
    "\n",
    "points = [\n",
    "    PointStruct(\n",
    "        id=0,                                # unikalny identyfikator punktu\n",
    "        vector=[0.1] * 384,                  # 384-wymiarowy wektor (np. embedding zdania)\n",
    "        payload={\"text\": \"przykład 1\"}       # dodatkowe dane (można filtrować po payloadach)\n",
    "    ),\n",
    "    PointStruct(\n",
    "        id=1,\n",
    "        vector=[0.2] * 384,\n",
    "        payload={\"text\": \"przykład 2\"}\n",
    "    )\n",
    "]\n",
    "\n",
    "# Dodanie punktów do kolekcji o nazwie 'my_collection'\n",
    "# Jeśli punkty o tych ID już istnieją – zostaną nadpisane (upsert = insert + update)\n",
    "client.upsert(\n",
    "    collection_name=\"my_collection\",\n",
    "    points=points\n",
    ")\n"
   ]
  },
  {
   "cell_type": "markdown",
   "metadata": {},
   "source": [
    "### Wyszukiwanie podobnych wektorów"
   ]
  },
  {
   "cell_type": "code",
   "execution_count": 15,
   "metadata": {},
   "outputs": [
    {
     "name": "stdout",
     "output_type": "stream",
     "text": [
      "ID: 0, score: 0.9999999, payload: {'text': 'przykład 1'}\n",
      "ID: 1, score: 0.9999999, payload: {'text': 'przykład 2'}\n"
     ]
    },
    {
     "name": "stderr",
     "output_type": "stream",
     "text": [
      "/tmp/ipykernel_336/1154867874.py:3: DeprecationWarning: `search` method is deprecated and will be removed in the future. Use `query_points` instead.\n",
      "  results = client.search(\n"
     ]
    }
   ],
   "source": [
    "query_vector = [0.1]*384 # Wektor o długości 384 i wartościach 0.1\n",
    "\n",
    "results = client.search(\n",
    "    collection_name=\"my_collection\",\n",
    "    query_vector=query_vector,\n",
    "    limit=3,\n",
    "    with_payload=True\n",
    ")\n",
    "\n",
    "for result in results:\n",
    "    print(f\"ID: {result.id}, score: {result.score}, payload: {result.payload}\")\n"
   ]
  },
  {
   "cell_type": "markdown",
   "metadata": {},
   "source": [
    "### Usuwanie punktów"
   ]
  },
  {
   "cell_type": "code",
   "execution_count": 16,
   "metadata": {},
   "outputs": [
    {
     "data": {
      "text/plain": [
       "UpdateResult(operation_id=1, status=<UpdateStatus.COMPLETED: 'completed'>)"
      ]
     },
     "execution_count": 16,
     "metadata": {},
     "output_type": "execute_result"
    }
   ],
   "source": [
    "client.delete(\n",
    "    collection_name=\"my_collection\",\n",
    "    points_selector=PointIdsList(points=[0, 1])\n",
    ")\n"
   ]
  },
  {
   "cell_type": "markdown",
   "metadata": {},
   "source": [
    "### Usuwanie kolekcji"
   ]
  },
  {
   "cell_type": "code",
   "execution_count": 18,
   "metadata": {},
   "outputs": [
    {
     "data": {
      "text/plain": [
       "True"
      ]
     },
     "execution_count": 18,
     "metadata": {},
     "output_type": "execute_result"
    }
   ],
   "source": [
    "client.delete_collection(collection_name=\"my_collection\")"
   ]
  }
 ],
 "metadata": {
  "kernelspec": {
   "display_name": "nosql_venv",
   "language": "python",
   "name": "python3"
  },
  "language_info": {
   "codemirror_mode": {
    "name": "ipython",
    "version": 3
   },
   "file_extension": ".py",
   "mimetype": "text/x-python",
   "name": "python",
   "nbconvert_exporter": "python",
   "pygments_lexer": "ipython3",
   "version": "3.11.2"
  }
 },
 "nbformat": 4,
 "nbformat_minor": 2
}
