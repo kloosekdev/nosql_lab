{
 "cells": [
  {
   "cell_type": "markdown",
   "metadata": {},
   "source": [
    "Run: docker compose up -d"
   ]
  },
  {
   "cell_type": "code",
   "execution_count": 2,
   "metadata": {},
   "outputs": [],
   "source": [
    "import numpy as np\n",
    "\n",
    "from qdrant_client import QdrantClient\n",
    "from qdrant_client.models import VectorParams, Distance, PointStruct\n",
    "from sentence_transformers import SentenceTransformer\n"
   ]
  },
  {
   "cell_type": "code",
   "execution_count": 3,
   "metadata": {},
   "outputs": [],
   "source": [
    "METRIC_TYPE = \"COSINE\" # Która metoda ma być użyta do porównywania\n",
    "TEXT_TO_SEARCH = 30         # Numer sentencji do porównania\n",
    "NN_NUMBER = 5               # Ilość sąsiadów do odszukania\n",
    "COLLECTION_NAME = \"sentences_collection\"\n",
    "\n",
    "# Lista metod porównujących\n",
    "METRIC_LIST = {\n",
    "    \"COSINE\": Distance.COSINE,\n",
    "    \"EUCLID\": Distance.EUCLID,\n",
    "    \"DOT\": Distance.DOT\n",
    "}"
   ]
  },
  {
   "cell_type": "code",
   "execution_count": 4,
   "metadata": {},
   "outputs": [],
   "source": [
    "# Dane tekstowe\n",
    "sentences = [\n",
    "    \"Słońce świeci na niebie.\", # 0\n",
    "    \"Dzisiaj jest piękna pogoda.\",\n",
    "    \"Lubię uczyć się programowania.\",\n",
    "    \"Python to popularny język programowania.\",\n",
    "    \"Wieczorem często czytam książki.\",\n",
    "    \"Mój pies lubi biegać po parku.\",\n",
    "    \"Programowanie to świetna zabawa.\",\n",
    "    \"Niebo jest dziś bardzo niebieskie.\",\n",
    "    \"Czytanie rozwija wyobraźnię.\",\n",
    "    \"Chodzę codziennie na spacer z psem.\",\n",
    "    \"Lubię Mazury, morze i góry.\", # 10\n",
    "    \"Java to mój ulubiony język programowania.\",\n",
    "    \"Ostatnio częściej programuję w Pythonie\",\n",
    "    \"SQL też nie jest zły.\",\n",
    "    \"Za tydzień jedziemy całą ekipą na wakacje w góry.\",\n",
    "    \"Zawsze na wyjazdy wakacyjne zabieramy naszego psa.\",\n",
    "    \"Dostałem wczoraj mandat za przektoczenie predkości.\",\n",
    "    \"Jazda moim Porshe wyzwala we mnie mega emocje.\",\n",
    "    \"Kolarstwo górskie daje mi wiele frajdy.\",\n",
    "    \"Wczoraj byłem w kinie.\",\n",
    "    \"Mam uczulenie na czekoladę ale za to mogę jeść marmoladę.\", # 20\n",
    "    \"Najlepsze pączki są z marmoladą i lukrem.\",\n",
    "    \"Twój tort urodzinowy był pyszny.\",\n",
    "    \"Od roku ograniczam cukier i czuję sie wyśmienicie.\",\n",
    "    \"Wczoraj kupiłem poradnik pt. Dieta dla każdego.\",\n",
    "    \"Sposób odżywiania ma wpływ na nasze samopoczucie.\",\n",
    "    \"Właśnie skończyłem czytać fajną książkę.\",\n",
    "    \"Czytanie książek to moja ulubiona zabawa.\",\n",
    "    \"Wczoraj byłem w bibliotek i wypożyczyłem kilka książek na temat programowania.\",\n",
    "    \"Wczoraj wróciliśmy z wakacji z Mazur.\",\n",
    "    \"Mój pies lubi gonić koty.\" # 30\n",
    "]"
   ]
  },
  {
   "cell_type": "code",
   "execution_count": 5,
   "metadata": {},
   "outputs": [
    {
     "data": {
      "application/vnd.jupyter.widget-view+json": {
       "model_id": "1cbed10a6336460484d7b5ce42cd1af4",
       "version_major": 2,
       "version_minor": 0
      },
      "text/plain": [
       "modules.json:   0%|          | 0.00/349 [00:00<?, ?B/s]"
      ]
     },
     "metadata": {},
     "output_type": "display_data"
    },
    {
     "data": {
      "application/vnd.jupyter.widget-view+json": {
       "model_id": "d03e291b053842199425f097e77b8179",
       "version_major": 2,
       "version_minor": 0
      },
      "text/plain": [
       "config_sentence_transformers.json:   0%|          | 0.00/116 [00:00<?, ?B/s]"
      ]
     },
     "metadata": {},
     "output_type": "display_data"
    },
    {
     "data": {
      "application/vnd.jupyter.widget-view+json": {
       "model_id": "e3450ef44aec48419595f1c820d9a248",
       "version_major": 2,
       "version_minor": 0
      },
      "text/plain": [
       "README.md:   0%|          | 0.00/10.5k [00:00<?, ?B/s]"
      ]
     },
     "metadata": {},
     "output_type": "display_data"
    },
    {
     "data": {
      "application/vnd.jupyter.widget-view+json": {
       "model_id": "20656f02b1464128b0568bfae3005128",
       "version_major": 2,
       "version_minor": 0
      },
      "text/plain": [
       "sentence_bert_config.json:   0%|          | 0.00/53.0 [00:00<?, ?B/s]"
      ]
     },
     "metadata": {},
     "output_type": "display_data"
    },
    {
     "data": {
      "application/vnd.jupyter.widget-view+json": {
       "model_id": "4ca0ae855abf4054b99bc48ab625d72e",
       "version_major": 2,
       "version_minor": 0
      },
      "text/plain": [
       "config.json:   0%|          | 0.00/612 [00:00<?, ?B/s]"
      ]
     },
     "metadata": {},
     "output_type": "display_data"
    },
    {
     "data": {
      "application/vnd.jupyter.widget-view+json": {
       "model_id": "4a1b5dd474a047feb3a83d943fead8ba",
       "version_major": 2,
       "version_minor": 0
      },
      "text/plain": [
       "model.safetensors:   0%|          | 0.00/90.9M [00:00<?, ?B/s]"
      ]
     },
     "metadata": {},
     "output_type": "display_data"
    },
    {
     "data": {
      "application/vnd.jupyter.widget-view+json": {
       "model_id": "b002beba9c714314a5f5c34851d7ad79",
       "version_major": 2,
       "version_minor": 0
      },
      "text/plain": [
       "tokenizer_config.json:   0%|          | 0.00/350 [00:00<?, ?B/s]"
      ]
     },
     "metadata": {},
     "output_type": "display_data"
    },
    {
     "data": {
      "application/vnd.jupyter.widget-view+json": {
       "model_id": "6abadf3d09064bf58cf51aa5ddf47321",
       "version_major": 2,
       "version_minor": 0
      },
      "text/plain": [
       "vocab.txt:   0%|          | 0.00/232k [00:00<?, ?B/s]"
      ]
     },
     "metadata": {},
     "output_type": "display_data"
    },
    {
     "data": {
      "application/vnd.jupyter.widget-view+json": {
       "model_id": "9c22fb275e574eb49cf2479f10232614",
       "version_major": 2,
       "version_minor": 0
      },
      "text/plain": [
       "tokenizer.json:   0%|          | 0.00/466k [00:00<?, ?B/s]"
      ]
     },
     "metadata": {},
     "output_type": "display_data"
    },
    {
     "data": {
      "application/vnd.jupyter.widget-view+json": {
       "model_id": "d55c9fb4f603420d996ea44c2c247653",
       "version_major": 2,
       "version_minor": 0
      },
      "text/plain": [
       "special_tokens_map.json:   0%|          | 0.00/112 [00:00<?, ?B/s]"
      ]
     },
     "metadata": {},
     "output_type": "display_data"
    },
    {
     "data": {
      "application/vnd.jupyter.widget-view+json": {
       "model_id": "0532c496b27c4d6997f6e1bafb3b1f5e",
       "version_major": 2,
       "version_minor": 0
      },
      "text/plain": [
       "config.json:   0%|          | 0.00/190 [00:00<?, ?B/s]"
      ]
     },
     "metadata": {},
     "output_type": "display_data"
    },
    {
     "name": "stderr",
     "output_type": "stream",
     "text": [
      "/tmp/ipykernel_537/2411939690.py:12: DeprecationWarning: `recreate_collection` method is deprecated and will be removed in the future. Use `collection_exists` to check collection existence and `create_collection` instead.\n",
      "  client.recreate_collection(\n"
     ]
    },
    {
     "name": "stdout",
     "output_type": "stream",
     "text": [
      "\n",
      "🔎 Zapytanie: Mój pies lubi gonić koty.\n",
      "\n",
      "🔗 Najbardziej podobne zdania:\n",
      "- \"Mój pies lubi gonić koty.\" (similarity: 1.0000)\n",
      "- \"Mój pies lubi biegać po parku.\" (similarity: 0.7829)\n",
      "- \"Dzisiaj jest piękna pogoda.\" (similarity: 0.5105)\n",
      "- \"Czytanie książek to moja ulubiona zabawa.\" (similarity: 0.4536)\n",
      "- \"Kolarstwo górskie daje mi wiele frajdy.\" (similarity: 0.4354)\n"
     ]
    },
    {
     "name": "stderr",
     "output_type": "stream",
     "text": [
      "/tmp/ipykernel_537/2411939690.py:31: DeprecationWarning: `search` method is deprecated and will be removed in the future. Use `query_points` instead.\n",
      "  results = client.search(\n"
     ]
    }
   ],
   "source": [
    "# Tworzenie embeddingów\n",
    "model = SentenceTransformer('all-MiniLM-L6-v2')\n",
    "embeddings = model.encode(sentences).astype(np.float32)\n",
    "\n",
    "# Inicjalizacja klienta Qdrant (lokalnie)\n",
    "client = QdrantClient(host=\"qdrant_nosql_lab\", port=6333)\n",
    "\n",
    "# Nazwa kolekcji\n",
    "collection_name = COLLECTION_NAME\n",
    "\n",
    "# Tworzenie kolekcji z metryką cosine\n",
    "client.recreate_collection(\n",
    "    collection_name=collection_name,\n",
    "    vectors_config=VectorParams(size=embeddings.shape[1], distance=METRIC_LIST[METRIC_TYPE])\n",
    ")\n",
    "\n",
    "# Dodanie punktów (embedding + tekst jako payload)\n",
    "points = [\n",
    "    PointStruct(id=i, vector=embeddings[i], payload={\"text\": sentences[i]})\n",
    "    for i in range(len(sentences))\n",
    "]\n",
    "\n",
    "client.upsert(collection_name=collection_name, points=points)\n",
    "\n",
    "# Zapytanie\n",
    "query_vector = embeddings[TEXT_TO_SEARCH]\n",
    "\n",
    "print(f\"\\n🔎 Zapytanie: {sentences[TEXT_TO_SEARCH]}\")\n",
    "\n",
    "# Wyszukiwanie 3 najbliższych\n",
    "results = client.search(\n",
    "    collection_name=collection_name,\n",
    "    query_vector=query_vector,\n",
    "    limit=NN_NUMBER,\n",
    "    with_payload=True\n",
    ")\n",
    "\n",
    "# Wyniki\n",
    "print(\"\\n🔗 Najbardziej podobne zdania:\")\n",
    "for hit in results:\n",
    "    text = hit.payload[\"text\"]\n",
    "    score = hit.score\n",
    "    print(f\"- \\\"{text}\\\" (similarity: {score:.4f})\")\n"
   ]
  },
  {
   "cell_type": "code",
   "execution_count": null,
   "metadata": {},
   "outputs": [
    {
     "data": {
      "text/plain": [
       "True"
      ]
     },
     "execution_count": 8,
     "metadata": {},
     "output_type": "execute_result"
    }
   ],
   "source": [
    "# client.delete_collection(collection_name=COLLECTION_NAME)"
   ]
  },
  {
   "cell_type": "code",
   "execution_count": 10,
   "metadata": {},
   "outputs": [
    {
     "name": "stdout",
     "output_type": "stream",
     "text": [
      "collections=[]\n"
     ]
    }
   ],
   "source": [
    "collections = client.get_collections()\n",
    "print(collections)"
   ]
  }
 ],
 "metadata": {
  "kernelspec": {
   "display_name": "nosql_venv",
   "language": "python",
   "name": "python3"
  },
  "language_info": {
   "codemirror_mode": {
    "name": "ipython",
    "version": 3
   },
   "file_extension": ".py",
   "mimetype": "text/x-python",
   "name": "python",
   "nbconvert_exporter": "python",
   "pygments_lexer": "ipython3",
   "version": "3.11.2"
  }
 },
 "nbformat": 4,
 "nbformat_minor": 2
}
