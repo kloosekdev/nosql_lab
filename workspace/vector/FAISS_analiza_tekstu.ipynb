{
 "cells": [
  {
   "cell_type": "markdown",
   "metadata": {},
   "source": [
    "Run: docker compose up -d"
   ]
  },
  {
   "cell_type": "code",
   "execution_count": 2,
   "metadata": {},
   "outputs": [],
   "source": [
    "import os\n",
    "\n",
    "import pickle\n",
    "import faiss\n",
    "import numpy as np\n",
    "from sentence_transformers import SentenceTransformer"
   ]
  },
  {
   "cell_type": "code",
   "execution_count": 3,
   "metadata": {},
   "outputs": [],
   "source": [
    "METRIC_TYPE = \"IndexFlatL2\" # Która metoda ma być użyta do porównywania\n",
    "TEXT_TO_SEARCH = 30         # Numer sentencji do porównania\n",
    "NN_NUMBER = 5               # Ilość sąsiadów do odszukania\n",
    "\n",
    "# Lista metod porównujących\n",
    "METRIC_LIST = {\n",
    "    \"IndexFlatL2\": faiss.IndexFlatL2,\n",
    "    \"IndexHNSWFlat\": faiss.IndexHNSWFlat,\n",
    "    \"IndexFlatIP\": faiss.IndexFlatIP\n",
    "}"
   ]
  },
  {
   "cell_type": "code",
   "execution_count": 4,
   "metadata": {},
   "outputs": [],
   "source": [
    "# Tekst – 10 przykładowych zdań\n",
    "sentences = [\n",
    "    \"Słońce świeci na niebie.\", # 0\n",
    "    \"Dzisiaj jest piękna pogoda.\",\n",
    "    \"Lubię uczyć się programowania.\",\n",
    "    \"Python to popularny język programowania.\",\n",
    "    \"Wieczorem często czytam książki.\",\n",
    "    \"Mój pies lubi biegać po parku.\",\n",
    "    \"Programowanie to świetna zabawa.\",\n",
    "    \"Niebo jest dziś bardzo niebieskie.\",\n",
    "    \"Czytanie rozwija wyobraźnię.\",\n",
    "    \"Chodzę codziennie na spacer z psem.\",\n",
    "    \"Lubię Mazury, morze i góry.\", # 10\n",
    "    \"Java to mój ulubiony język programowania.\",\n",
    "    \"Ostatnio częściej programuję w Pythonie\",\n",
    "    \"SQL też nie jest zły.\",\n",
    "    \"Za tydzień jedziemy całą ekipą na wakacje w góry.\",\n",
    "    \"Zawsze na wyjazdy wakacyjne zabieramy naszego psa.\",\n",
    "    \"Dostałem wczoraj mandat za przektoczenie predkości.\",\n",
    "    \"Jazda moim Porshe wyzwala we mnie mega emocje.\",\n",
    "    \"Kolarstwo górskie daje mi wiele frajdy.\",\n",
    "    \"Wczoraj byłem w kinie.\",\n",
    "    \"Mam uczulenie na czekoladę ale za to mogę jeść marmoladę.\", # 20\n",
    "    \"Najlepsze pączki są z marmoladą i lukrem.\",\n",
    "    \"Twój tort urodzinowy był pyszny.\",\n",
    "    \"Od roku ograniczam cukier i czuję sie wyśmienicie.\",\n",
    "    \"Wczoraj kupiłem poradnik pt. Dieta dla każdego.\",\n",
    "    \"Sposób odżywiania ma wpływ na nasze samopoczucie.\",\n",
    "    \"Właśnie skończyłem czytać fajną książkę.\",\n",
    "    \"Czytanie książek to moja ulubiona zabawa.\",\n",
    "    \"Wczoraj byłem w bibliotek i wypożyczyłem kilka książek na temat programowania.\",\n",
    "    \"Wczoraj wróciliśmy z wakacji z Mazur.\",\n",
    "    \"Mój pies lubi gonić koty.\" # 30\n",
    "]"
   ]
  },
  {
   "cell_type": "code",
   "execution_count": null,
   "metadata": {},
   "outputs": [
    {
     "name": "stdout",
     "output_type": "stream",
     "text": [
      "Indeks FAISS już istnieje: index_faiss/sentences_faiss.index\n",
      "\n",
      "🔎 Zapytanie: Mój pies lubi gonić koty.\n",
      "\n",
      "🔗 Najbardziej podobne zdania:\n",
      "- \"Mój pies lubi gonić koty.\" (L2 dist: 0.0000)\n",
      "- \"Mój pies lubi biegać po parku.\" (L2 dist: 0.4342)\n",
      "- \"Dzisiaj jest piękna pogoda.\" (L2 dist: 0.9790)\n",
      "- \"Czytanie książek to moja ulubiona zabawa.\" (L2 dist: 1.0927)\n",
      "- \"Kolarstwo górskie daje mi wiele frajdy.\" (L2 dist: 1.1293)\n"
     ]
    }
   ],
   "source": [
    "# Model do embeddingów\n",
    "model = SentenceTransformer('all-MiniLM-L6-v2')\n",
    "embeddings = model.encode(sentences).astype(np.float32)\n",
    "vector_dim = embeddings.shape[1]\n",
    "\n",
    "# Ścieżki do plików\n",
    "index_file = \"index_faiss/sentences_faiss.index\"\n",
    "# sentences_file = \"index_faiss/sentences.pkl\"\n",
    "\n",
    "# Tworzenie indeksu FAISS (IndexFlatL2 = najbliżsi sąsiedzi na podstawie odległości euklidesowej)\n",
    "if not os.path.exists(index_file):\n",
    "    index = METRIC_LIST[METRIC_TYPE](vector_dim)\n",
    "    index.add(embeddings)\n",
    "    faiss.write_index(index, index_file)\n",
    "    print(f\"Indeks FAISS zapisany do: {index_file}\")\n",
    "else:\n",
    "    print(f\"Indeks FAISS już istnieje: {index_file}\")\n",
    "\n",
    "# Wczytanie indeksu i zdań\n",
    "index = faiss.read_index(index_file)\n",
    "\n",
    "# Zapytanie\n",
    "query_id = TEXT_TO_SEARCH\n",
    "query_vec = embeddings[query_id].reshape(1, -1) # Budowa macierzy 2D\n",
    "\n",
    "print(f\"Zapytanie: {sentences[query_id]}\")\n",
    "\n",
    "# Wyszukiwanie 3 najbliższych sąsiadów\n",
    "D, I = index.search(query_vec, NN_NUMBER)\n",
    "\n",
    "# Wyświetlenie wyników\n",
    "print(\"Najbardziej podobne zdania:\")\n",
    "for idx, dist in zip(I[0], D[0]):\n",
    "    print(f\"- {sentences[idx]} - (L2 dist: {dist:.4f})\")\n"
   ]
  }
 ],
 "metadata": {
  "kernelspec": {
   "display_name": "nosql_venv",
   "language": "python",
   "name": "python3"
  },
  "language_info": {
   "codemirror_mode": {
    "name": "ipython",
    "version": 3
   },
   "file_extension": ".py",
   "mimetype": "text/x-python",
   "name": "python",
   "nbconvert_exporter": "python",
   "pygments_lexer": "ipython3",
   "version": "3.11.2"
  }
 },
 "nbformat": 4,
 "nbformat_minor": 2
}
