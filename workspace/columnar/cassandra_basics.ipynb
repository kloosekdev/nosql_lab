{
 "cells": [
  {
   "cell_type": "markdown",
   "metadata": {},
   "source": [
    "Run: docker compose -f cass-docker-compose.yml up -d"
   ]
  },
  {
   "cell_type": "code",
   "execution_count": 13,
   "metadata": {},
   "outputs": [],
   "source": [
    "import uuid\n",
    "from cassandra.cluster import Cluster"
   ]
  },
  {
   "cell_type": "code",
   "execution_count": 47,
   "metadata": {},
   "outputs": [
    {
     "name": "stdout",
     "output_type": "stream",
     "text": [
      "Połączono z Cassandra\n"
     ]
    }
   ],
   "source": [
    "# Otwieranie połączenia\n",
    "cluster = Cluster(['cassandra'], port=9042)\n",
    "session = cluster.connect()\n",
    "print(\"Połączono z Cassandra\")"
   ]
  },
  {
   "cell_type": "code",
   "execution_count": 48,
   "metadata": {},
   "outputs": [
    {
     "name": "stdout",
     "output_type": "stream",
     "text": [
      "Utworzono keyspace\n"
     ]
    }
   ],
   "source": [
    "# Tworzenie Keyspace\n",
    "session.execute(\"\"\"\n",
    "    CREATE KEYSPACE IF NOT EXISTS lab_keyspace\n",
    "    WITH replication = {'class': 'SimpleStrategy', 'replication_factor': '1'}\n",
    "\"\"\")\n",
    "print(\"Utworzono keyspace\")"
   ]
  },
  {
   "cell_type": "code",
   "execution_count": 49,
   "metadata": {},
   "outputs": [
    {
     "name": "stdout",
     "output_type": "stream",
     "text": [
      "Utworzono tabelę 'users'\n"
     ]
    }
   ],
   "source": [
    "# Użycie Keyspace\n",
    "session.set_keyspace('lab_keyspace')\n",
    "\n",
    "# Tworzenie tabeli\n",
    "session.execute(\"\"\"\n",
    "    CREATE TABLE IF NOT EXISTS users (\n",
    "        user_id UUID PRIMARY KEY,\n",
    "        name TEXT,\n",
    "        email TEXT,\n",
    "        age INT\n",
    "    )\n",
    "\"\"\")\n",
    "print(\"Utworzono tabelę 'users'\")"
   ]
  },
  {
   "cell_type": "code",
   "execution_count": 50,
   "metadata": {},
   "outputs": [
    {
     "name": "stdout",
     "output_type": "stream",
     "text": [
      "Dodano dane\n"
     ]
    }
   ],
   "source": [
    "# Dodawanie danych\n",
    "session.execute(\"\"\"\n",
    "    INSERT INTO users (user_id, name, email, age)\n",
    "    VALUES (%s, %s, %s, %s)\n",
    "\"\"\", (uuid.uuid4(), 'Anna Kowalska', 'anna@example.com', 28))\n",
    "\n",
    "session.execute(\"\"\"\n",
    "    INSERT INTO users (user_id, name, email, age)\n",
    "    VALUES (%s, %s, %s, %s)\n",
    "\"\"\", (uuid.uuid4(), 'Jan Nowak', 'jan@example.com', 35))\n",
    "\n",
    "# Can't extend by column hobby!\n",
    "# session.execute(\"\"\"\n",
    "#     INSERT INTO users (user_id, name, email, age, hobby)\n",
    "#     VALUES (%s, %s, %s, %s, %s)\n",
    "# \"\"\", (uuid.uuid4(), 'Jan Nowak', 'jan@example.com', 35, 'tenis'))\n",
    "\n",
    "print(\"Dodano dane\")"
   ]
  },
  {
   "cell_type": "code",
   "execution_count": 53,
   "metadata": {},
   "outputs": [
    {
     "name": "stdout",
     "output_type": "stream",
     "text": [
      "\n",
      " Lista użytkowników:\n",
      "- a130db24-551d-4caf-838e-5e4615c1a25c Anna Kowalska (36 lat) – anna@example.com\n",
      "- 85d9319b-a95b-4de3-8257-15060b8a36cc Jan Nowak (35 lat) – jan@example.com\n"
     ]
    }
   ],
   "source": [
    "# Pobieranie danych\n",
    "rows = session.execute(\"SELECT * FROM users\")\n",
    "print(\"\\n Lista użytkowników:\")\n",
    "for row in rows:\n",
    "    print(f\"- {row.user_id} {row.name} ({row.age} lat) – {row.email}\")\n"
   ]
  },
  {
   "cell_type": "code",
   "execution_count": 52,
   "metadata": {},
   "outputs": [],
   "source": [
    "uid = \"a130db24-551d-4caf-838e-5e4615c1a25c\"\n",
    "q = f\"\"\"\n",
    "UPDATE users\n",
    "SET age = 36\n",
    "WHERE user_id = {uid};\n",
    "\"\"\"\n",
    "rows = session.execute(q)"
   ]
  },
  {
   "cell_type": "code",
   "execution_count": 40,
   "metadata": {},
   "outputs": [],
   "source": [
    "# Usunięcie wszystkich wierszy\n",
    "rows = session.execute(\"SELECT * FROM users\")\n",
    "for row in rows:\n",
    "    q_del = f\"\"\"\n",
    "    DELETE FROM users WHERE user_id = {row.user_id};\n",
    "    \"\"\"\n",
    "    # print(q_del)\n",
    "    rows = session.execute(q_del)"
   ]
  },
  {
   "cell_type": "code",
   "execution_count": 54,
   "metadata": {},
   "outputs": [],
   "source": [
    "q_drop1 = \"\"\"\n",
    "DROP TABLE IF EXISTS users;\n",
    "\"\"\"\n",
    "rows = session.execute(q_drop1)\n",
    "\n",
    "q_drop2 = \"\"\"\n",
    "DROP KEYSPACE IF EXISTS lab_keyspace;\n",
    "\"\"\"\n",
    "rows = session.execute(q_drop2)"
   ]
  },
  {
   "cell_type": "code",
   "execution_count": 55,
   "metadata": {},
   "outputs": [],
   "source": [
    "# Zamknięcie połączenia\n",
    "cluster.shutdown()"
   ]
  }
 ],
 "metadata": {
  "kernelspec": {
   "display_name": "nosql_venv",
   "language": "python",
   "name": "python3"
  },
  "language_info": {
   "codemirror_mode": {
    "name": "ipython",
    "version": 3
   },
   "file_extension": ".py",
   "mimetype": "text/x-python",
   "name": "python",
   "nbconvert_exporter": "python",
   "pygments_lexer": "ipython3",
   "version": "3.11.2"
  }
 },
 "nbformat": 4,
 "nbformat_minor": 2
}
