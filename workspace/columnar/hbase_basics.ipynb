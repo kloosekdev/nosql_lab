{
 "cells": [
  {
   "cell_type": "markdown",
   "metadata": {},
   "source": [
    "### Struktura danych\n",
    "1. Tabela (Table) - Podobnie jak w relacyjnej bazie danych – główny kontener na dane.\n",
    "2. Wiersz (Row) - Każdy wiersz ma unikalny klucz (RowKey). To on decyduje o fizycznym ułożeniu danych i wpływa na wydajność. Dane w tabeli są posortowane według RowKey.\n",
    "3. Rodzina kolumn (Column Family) - W każdej tabeli definiujesz z góry jedną lub więcej rodzin kolumn (np. data, meta). To fizyczne jednostki przechowywania danych – kolumny tej samej rodziny są trzymane razem na dysku.\n",
    "4. Kolumna (Qualifier) - Wewnątrz rodziny kolumn możesz dynamicznie tworzyć kolumny, np. data:temperature, data:humidity. Qualifier (np. temperature) nie musi być znany z góry.\n",
    "5. Wersja (Timestamp) - Każda komórka (row + column) może mieć wiele wersji danych, oznaczonych znacznikiem czasu. Domyślnie zwracana jest najnowsza wersja."
   ]
  },
  {
   "attachments": {
    "image.png": {
     "image/png": "[encoded data removed]"
    }
   },
   "cell_type": "markdown",
   "metadata": {},
   "source": [
    "![image.png](attachment:image.png)"
   ]
  },
  {
   "cell_type": "markdown",
   "metadata": {},
   "source": [
    "## Ćwiczenia"
   ]
  },
  {
   "cell_type": "code",
   "execution_count": 18,
   "metadata": {},
   "outputs": [],
   "source": [
    "import happybase\n",
    "import statistics"
   ]
  },
  {
   "cell_type": "markdown",
   "metadata": {},
   "source": [
    "### Połączenie z HBase i tworzenie tabeli"
   ]
  },
  {
   "cell_type": "code",
   "execution_count": 63,
   "metadata": {},
   "outputs": [
    {
     "name": "stdout",
     "output_type": "stream",
     "text": [
      "Tabela już istnieje.\n",
      "Dostępne tabele: [b'students']\n"
     ]
    }
   ],
   "source": [
    "connection = happybase.Connection('hbase_nosql_lab', port=9090)\n",
    "connection.open()\n",
    "\n",
    "if b'students' in connection.tables():\n",
    "    print(\"Tabela już istnieje.\")\n",
    "else:\n",
    "    connection.create_table(\n",
    "        'students',\n",
    "        {'info': dict(), 'grades': dict()}\n",
    "    )\n",
    "    print(\"Utworzono tabelę 'students'.\")\n",
    "\n",
    "print(\"Dostępne tabele:\", connection.tables())\n"
   ]
  },
  {
   "cell_type": "markdown",
   "metadata": {},
   "source": [
    "### Dodawanie danych do tabeli"
   ]
  },
  {
   "cell_type": "code",
   "execution_count": 67,
   "metadata": {},
   "outputs": [
    {
     "name": "stdout",
     "output_type": "stream",
     "text": [
      "Dodano dane dla studenta 1001.\n"
     ]
    }
   ],
   "source": [
    "table = connection.table('students')\n",
    "\n",
    "table.put(b'1001', {\n",
    "    b'info:name': b'Jan Kowalski',\n",
    "    b'info:email': b'jan.kowalski@example.com',\n",
    "    b'grades:math': b'15.0',\n",
    "    b'grades:physics': b'4.5',\n",
    "})\n",
    "print(\"Dodano dane dla studenta 1001.\")\n"
   ]
  },
  {
   "cell_type": "markdown",
   "metadata": {},
   "source": [
    "### Odczyt danych z tabeli"
   ]
  },
  {
   "cell_type": "code",
   "execution_count": 75,
   "metadata": {},
   "outputs": [
    {
     "name": "stdout",
     "output_type": "stream",
     "text": [
      "Dane studenta 1001: {b'grades:math': b'15.0', b'grades:physics': b'4.5', b'info:email': b'jan.kowalski@example.com', b'info:name': b'Jan Kowalski'}\n",
      "Ocena z matematyki: [b'15.0', b'5.0', b'5.0']\n",
      "Ocena z matematyki: b'15.0'\n"
     ]
    }
   ],
   "source": [
    "row = table.row(b'1001')\n",
    "print(\"Dane studenta 1001:\", row)\n",
    "\n",
    "# Odczyt pojedynczej kolumny\n",
    "math_grade = table.cells(b'1001', b'grades:math')\n",
    "print(\"Ocena z matematyki:\", math_grade) # Wszystkie wersje\n",
    "print(\"Ocena z matematyki:\", math_grade[0]) # Ostatnia wersja\n"
   ]
  },
  {
   "cell_type": "markdown",
   "metadata": {},
   "source": [
    "### Skanowanie tabeli"
   ]
  },
  {
   "cell_type": "code",
   "execution_count": 76,
   "metadata": {},
   "outputs": [
    {
     "name": "stdout",
     "output_type": "stream",
     "text": [
      "1001: {b'grades:math': b'15.0', b'grades:physics': b'4.5', b'info:email': b'jan.kowalski@example.com', b'info:name': b'Jan Kowalski'}\n",
      "1002: {b'grades:math': b'4.0', b'info:name': b'Anna Nowak'}\n",
      "1003: {b'grades:math': b'3.5', b'info:name': b'Piotr Zielinski'}\n"
     ]
    }
   ],
   "source": [
    "for key, data in table.scan():\n",
    "    print(f\"{key.decode()}: {data}\")\n"
   ]
  },
  {
   "cell_type": "markdown",
   "metadata": {},
   "source": [
    "### Usuwanie danych"
   ]
  },
  {
   "cell_type": "code",
   "execution_count": 42,
   "metadata": {},
   "outputs": [],
   "source": [
    "# Usunięcie jednej kolumny\n",
    "table.delete(b'1001', columns=[b'grades:physics'])"
   ]
  },
  {
   "cell_type": "code",
   "execution_count": 37,
   "metadata": {},
   "outputs": [],
   "source": [
    "# Usunięcie całego wiersza\n",
    "table.delete(b'1001')\n"
   ]
  },
  {
   "cell_type": "markdown",
   "metadata": {},
   "source": [
    "### Użycie batch – wsadowe dodawanie danych"
   ]
  },
  {
   "cell_type": "code",
   "execution_count": null,
   "metadata": {},
   "outputs": [
    {
     "name": "stdout",
     "output_type": "stream",
     "text": [
      "Dodano dane wsadowo.\n"
     ]
    }
   ],
   "source": [
    "with table.batch() as batch:\n",
    "    batch.put(b'1002', {b'info:name': b'Anna Nowak', b'grades:math': b'4.0'})\n",
    "    batch.put(b'1003', {b'info:name': b'Piotr Zielinski', b'grades:math': b'3.5'})\n",
    "print(\"Dodano dane wsadowo.\")\n"
   ]
  },
  {
   "cell_type": "markdown",
   "metadata": {},
   "source": [
    "### Zaawansowane filtrowanie danych"
   ]
  },
  {
   "cell_type": "code",
   "execution_count": 78,
   "metadata": {},
   "outputs": [
    {
     "name": "stdout",
     "output_type": "stream",
     "text": [
      "Student z oceną 4.0: 1002\n"
     ]
    }
   ],
   "source": [
    "for key, data in table.scan(filter=b\"ValueFilter(=, 'binary:4.0')\"):\n",
    "    print(f\"Student z oceną 4.0: {key.decode()}\")\n"
   ]
  },
  {
   "cell_type": "markdown",
   "metadata": {},
   "source": [
    "### Tworzenie statystyk – średnia ocen"
   ]
  },
  {
   "cell_type": "code",
   "execution_count": 80,
   "metadata": {},
   "outputs": [
    {
     "name": "stdout",
     "output_type": "stream",
     "text": [
      "Średnia ocena z matematyki: 7.5\n"
     ]
    }
   ],
   "source": [
    "grades = []\n",
    "for _, data in table.scan(columns=[b'grades:math']):\n",
    "    if b'grades:math' in data:\n",
    "        grades.append(float(data[b'grades:math'].decode()))\n",
    "\n",
    "print(\"Średnia ocena z matematyki:\", statistics.mean(grades))\n"
   ]
  }
 ],
 "metadata": {
  "kernelspec": {
   "display_name": "nosql_venv",
   "language": "python",
   "name": "python3"
  },
  "language_info": {
   "codemirror_mode": {
    "name": "ipython",
    "version": 3
   },
   "file_extension": ".py",
   "mimetype": "text/x-python",
   "name": "python",
   "nbconvert_exporter": "python",
   "pygments_lexer": "ipython3",
   "version": "3.11.2"
  }
 },
 "nbformat": 4,
 "nbformat_minor": 2
}
