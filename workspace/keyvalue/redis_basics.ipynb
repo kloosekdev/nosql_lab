{
 "cells": [
  {
   "cell_type": "markdown",
   "metadata": {},
   "source": [
    "Run: docker compose -f kv-docker-compose.yml up -d"
   ]
  },
  {
   "cell_type": "code",
   "execution_count": 36,
   "metadata": {},
   "outputs": [],
   "source": [
    "import redis"
   ]
  },
  {
   "cell_type": "code",
   "execution_count": 37,
   "metadata": {},
   "outputs": [
    {
     "name": "stdout",
     "output_type": "stream",
     "text": [
      "Połączono z Redisem!\n"
     ]
    }
   ],
   "source": [
    "r = redis.Redis(host='redis_nosql_lab', port=6379, decode_responses=True)\n",
    "\n",
    "try:\n",
    "    r.ping()\n",
    "    print(\"Połączono z Redisem!\")\n",
    "except redis.exceptions.ConnectionError:\n",
    "    print(\"Brak połączenia z Redisem.\")"
   ]
  },
  {
   "cell_type": "markdown",
   "metadata": {},
   "source": [
    "### Podstawowe operacje SET / GET"
   ]
  },
  {
   "cell_type": "code",
   "execution_count": 38,
   "metadata": {},
   "outputs": [
    {
     "name": "stdout",
     "output_type": "stream",
     "text": [
      "username: student123\n",
      "username: student123\n"
     ]
    }
   ],
   "source": [
    "# SET ustawia wartość pod kluczem\n",
    "r.set(\"username\", \"student123\")\n",
    "print(\"username:\", r.get(\"username\"))\n",
    "\n",
    "# GET pobiera wartość spod danego klucza\n",
    "print(\"username:\", r.get(\"username\"))"
   ]
  },
  {
   "cell_type": "markdown",
   "metadata": {},
   "source": [
    "### Licznik odwiedzin (INCR)"
   ]
  },
  {
   "cell_type": "code",
   "execution_count": 39,
   "metadata": {},
   "outputs": [
    {
     "name": "stdout",
     "output_type": "stream",
     "text": [
      "visits: 2\n"
     ]
    }
   ],
   "source": [
    "# SET ustawia licznik na 0\n",
    "r.set(\"visits\", 0)\n",
    "\n",
    "# INCR zwiększa wartość o 1 (przydatne do liczników)\n",
    "r.incr(\"visits\")\n",
    "r.incr(\"visits\")\n",
    "print(\"visits:\", r.get(\"visits\"))"
   ]
  },
  {
   "cell_type": "markdown",
   "metadata": {},
   "source": [
    "### Lista wiadomości (List)"
   ]
  },
  {
   "cell_type": "code",
   "execution_count": 40,
   "metadata": {},
   "outputs": [
    {
     "name": "stdout",
     "output_type": "stream",
     "text": [
      "Ostatnie wiadomości: ['Cześć!', 'Jak się masz?', 'Redis działa :)']\n"
     ]
    }
   ],
   "source": [
    "# DELETE usuwa istniejącą listę, żeby ćwiczenie było powtarzalne\n",
    "r.delete(\"chat:messages\")\n",
    "\n",
    "# RPUSH dodaje elementy na koniec listy\n",
    "r.rpush(\"chat:messages\", \"Cześć!\", \"Jak się masz?\", \"Redis działa :)\")\n",
    "\n",
    "# LRANGE pobiera zakres elementów z listy (0 do -1 = wszystkie)\n",
    "print(\"Ostatnie wiadomości:\", r.lrange(\"chat:messages\", 0, -1))"
   ]
  },
  {
   "cell_type": "markdown",
   "metadata": {},
   "source": [
    "###  Hash: profilu użytkownika"
   ]
  },
  {
   "cell_type": "code",
   "execution_count": 41,
   "metadata": {},
   "outputs": [
    {
     "name": "stdout",
     "output_type": "stream",
     "text": [
      "Profil użytkownika: {'name': 'Anna', 'email': 'anna@example.com'}\n"
     ]
    }
   ],
   "source": [
    "# HSET ustawia wiele pól w mapie (hash)\n",
    "r.hset(\"user:1\", mapping={\"name\": \"Anna\", \"email\": \"anna@example.com\"})\n",
    "\n",
    "# HGETALL pobiera całą mapę\n",
    "print(\"Profil użytkownika:\", r.hgetall(\"user:1\"))"
   ]
  },
  {
   "cell_type": "markdown",
   "metadata": {},
   "source": [
    "### Set: aktywni użytkownicy"
   ]
  },
  {
   "cell_type": "code",
   "execution_count": 42,
   "metadata": {},
   "outputs": [
    {
     "name": "stdout",
     "output_type": "stream",
     "text": [
      "Online: {'student456', 'student123'}\n"
     ]
    }
   ],
   "source": [
    "# SADD dodaje elementy do zbioru (unikalne wartości)\n",
    "r.sadd(\"online_users\", \"student123\", \"student456\")\n",
    "\n",
    "# SMEMBERS zwraca wszystkie elementy zbioru\n",
    "print(\"Online:\", r.smembers(\"online_users\"))"
   ]
  },
  {
   "cell_type": "markdown",
   "metadata": {},
   "source": [
    "### Sorted Set: tablica wyników"
   ]
  },
  {
   "cell_type": "code",
   "execution_count": 43,
   "metadata": {},
   "outputs": [
    {
     "name": "stdout",
     "output_type": "stream",
     "text": [
      "Leaderboard: [('student456', 70.0), ('student123', 60.0)]\n"
     ]
    }
   ],
   "source": [
    "\n",
    "# ZADD dodaje elementy do posortowanego zbioru z przypisaną punktacją r.zadd(\"leaderboard\", {\"student123\": 50, \"student456\": 70})\n",
    "r.zadd(\"leaderboard\", {\"student123\": 50, \"student456\": 70})\n",
    "\n",
    "# ZINCRBY zwiększa wynik użytkownika\n",
    "r.zincrby(\"leaderboard\", 10, \"student123\")\n",
    "\n",
    "print(\"Leaderboard:\", r.zrevrange(\"leaderboard\", 0, -1, withscores=True))"
   ]
  },
  {
   "cell_type": "markdown",
   "metadata": {},
   "source": [
    "### TTL i wygasanie danych"
   ]
  },
  {
   "cell_type": "code",
   "execution_count": 44,
   "metadata": {},
   "outputs": [
    {
     "name": "stdout",
     "output_type": "stream",
     "text": [
      "TTL: 10\n"
     ]
    }
   ],
   "source": [
    "# SET z parametrem `ex` ustawia klucz, który wygasa po 10 sekundach\n",
    "r.set(\"temp_key\", \"wygasnie\", ex=10)\n",
    "\n",
    "# TTL pokazuje, ile sekund zostało do wygaśnięcia\n",
    "print(\"TTL:\", r.ttl(\"temp_key\"))"
   ]
  },
  {
   "cell_type": "markdown",
   "metadata": {},
   "source": [
    "### Czyszczenie danych"
   ]
  },
  {
   "cell_type": "code",
   "execution_count": 45,
   "metadata": {},
   "outputs": [
    {
     "data": {
      "text/plain": [
       "True"
      ]
     },
     "execution_count": 45,
     "metadata": {},
     "output_type": "execute_result"
    }
   ],
   "source": [
    "# FLUSHALL usuwa wszystkie dane z bazy Redis – używać ostrożnie!\n",
    "r.flushall()"
   ]
  }
 ],
 "metadata": {
  "kernelspec": {
   "display_name": "nosql_venv",
   "language": "python",
   "name": "python3"
  },
  "language_info": {
   "codemirror_mode": {
    "name": "ipython",
    "version": 3
   },
   "file_extension": ".py",
   "mimetype": "text/x-python",
   "name": "python",
   "nbconvert_exporter": "python",
   "pygments_lexer": "ipython3",
   "version": "3.11.2"
  }
 },
 "nbformat": 4,
 "nbformat_minor": 2
}
