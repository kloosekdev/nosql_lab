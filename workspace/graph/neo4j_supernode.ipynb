{
 "cells": [
  {
   "cell_type": "markdown",
   "metadata": {},
   "source": [
    "## Superwęzeł - supernode\n",
    "\n",
    "Superwęzeł (ang. supernode) to węzeł w grafie, który ma bardzo dużą liczbę relacji (np. setki tysięcy lub miliony).\n",
    "\n",
    "Przykłady to:\n",
    "- węzeł :User reprezentujący celebrytę z milionem obserwujących,\n",
    "- węzeł :Tag użyty przez milion postów,\n",
    "- węzeł :Product kupiony przez setki tysięcy klientów."
   ]
  },
  {
   "cell_type": "markdown",
   "metadata": {},
   "source": [
    "### Dlaczego należy ich unikać?\n",
    "- Wydajność: zapytania zaczynające się od superwęzła mogą być bardzo wolne – Neo4j musi przeszukać ogromny zestaw relacji, zanim przefiltruje te istotne.\n",
    "- Przeciążenie pamięci: graf musi załadować dużą liczbę relacji do RAM-u, co obciąża system.\n",
    "- Słaba selektywność zapytań: indeksy nie pomagają, gdy i tak trzeba przetworzyć tysiące relacji z jednego węzła."
   ]
  },
  {
   "cell_type": "markdown",
   "metadata": {},
   "source": [
    "### Jak unikać superwęzłów?\n",
    "- Segmentuj dane – np. :Post → :Tag_2025, :Customer_US, itp.\n",
    "- Dodawaj właściwości do relacji (np. :LIKED {timestamp}) i filtruj po nich.\n",
    "- Ograniczaj kierunek przeszukiwania w zapytaniach, np. [:FRIENDS_WITH]-> zamiast [:FRIENDS_WITH*].\n",
    "- Partycjonowanie tagów:\n",
    "    - Zamiast jednego (:Tag {name: \"AI\"}) → użyj np. (:Tag {name: \"AI\", year: 2024})\n",
    "- Zastąpienie relacji właściwością (jeśli nie analizujesz relacji):\n",
    "    - :Post {tags: [\"AI\", \"ML\"]} – wtedy szukasz WHERE \"AI\" IN p.tags, ale tracisz semantykę grafu."
   ]
  },
  {
   "cell_type": "markdown",
   "metadata": {},
   "source": [
    "Laboratorium: Superwęzeł – problem i optymalizacja\n",
    "Cel ćwiczenia:\n",
    "- Zobaczyć wpływ superwęzła na wydajność zapytań.\n",
    "- Nauczyć się optymalizować strukturę grafu: przez filtrowanie, partycjonowanie, projektowanie pod zapytania."
   ]
  },
  {
   "cell_type": "code",
   "execution_count": 3,
   "metadata": {},
   "outputs": [],
   "source": [
    "from neo4j import GraphDatabase\n",
    "import pandas as pd"
   ]
  },
  {
   "cell_type": "code",
   "execution_count": 4,
   "metadata": {},
   "outputs": [],
   "source": [
    "# Połączenie z Neo4j\n",
    "URI = \"bolt://neo4j_nosql_lab:7687\"\n",
    "USERNAME = \"neo4j\"\n",
    "PASSWORD = \"test1234\"  # upewnij się, że to pasuje do graph-docker-compose.yml"
   ]
  },
  {
   "cell_type": "code",
   "execution_count": null,
   "metadata": {},
   "outputs": [],
   "source": [
    "q_list = [\n",
    "    # // Tworzenie indeksu\n",
    "    \"DROP INDEX idx_post_created_at IF EXISTS;\"\n",
    "    , \"CREATE INDEX idx_post_created_at FOR (p:Post) ON (p.created_at);\"\n",
    "\n",
    "    # // Superwęzeł: jeden tag\n",
    "    , \"CREATE (:Tag {name: 'AI'});\"\n",
    "\n",
    "    # // Tworzenie 10k postów z relacją do tagu\n",
    "    , \"\"\"UNWIND range(1, 10000) AS i\n",
    "    CREATE (p:Post {title: 'Post #' + i, created_at: date('2025-01-01')})\n",
    "    WITH p\n",
    "    MATCH (t:Tag {name: 'AI'})\n",
    "    CREATE (p)-[:HAS_TAG]->(t);\"\"\"\n",
    "]"
   ]
  },
  {
   "cell_type": "code",
   "execution_count": 14,
   "metadata": {},
   "outputs": [
    {
     "name": "stdout",
     "output_type": "stream",
     "text": [
      "Połączono z Neo4j. Użyj funkcji `run_cypher('TWOJE_ZAPYTANIE')` aby wykonać zapytanie.\n"
     ]
    }
   ],
   "source": [
    "def run_cypher(query: str, driver):\n",
    "    with driver.session() as session:\n",
    "        result = session.run(query)\n",
    "        records = list(result)\n",
    "        if not records:\n",
    "            print(\"🔍 Brak wyników.\")\n",
    "            return\n",
    "        # Przekształcenie do DataFrame\n",
    "        df = pd.DataFrame([r.data() for r in records])\n",
    "        return df\n",
    "\n",
    "print(\"Połączono z Neo4j. Użyj funkcji `run_cypher('TWOJE_ZAPYTANIE')` aby wykonać zapytanie.\")\n",
    "\n",
    "def qexec(query: str):\n",
    "    driver = GraphDatabase.driver(URI, auth=(USERNAME, PASSWORD))\n",
    "    \n",
    "    df = run_cypher(query, driver)\n",
    "    \n",
    "    driver.close()\n",
    "    \n",
    "    return df"
   ]
  },
  {
   "cell_type": "code",
   "execution_count": null,
   "metadata": {},
   "outputs": [],
   "source": [
    "for q in q_list:\n",
    "    print(q)\n",
    "    qexec(q)"
   ]
  },
  {
   "cell_type": "markdown",
   "metadata": {},
   "source": [
    "### Zadanie 1: Zapytanie bez filtru (klasyczny superwęzeł)"
   ]
  },
  {
   "cell_type": "code",
   "execution_count": null,
   "metadata": {},
   "outputs": [],
   "source": [
    "q = \"\"\"\n",
    "MATCH (t:Tag {name: 'AI'})<-[:HAS_TAG]-(p:Post)\n",
    "RETURN p.title\n",
    "LIMIT 5\n",
    "\"\"\"\n",
    "qexec(q)"
   ]
  },
  {
   "cell_type": "markdown",
   "metadata": {},
   "source": [
    "### Zadanie 2: Optymalizacja – filtr po dacie"
   ]
  },
  {
   "cell_type": "code",
   "execution_count": null,
   "metadata": {},
   "outputs": [],
   "source": [
    "q = \"\"\"\n",
    "MATCH (t:Tag {name: 'AI'})<-[:HAS_TAG]-(p:Post)\n",
    "WHERE p.created_at > date('2025-01-01')\n",
    "RETURN p.title\n",
    "LIMIT 5\n",
    "\"\"\"\n",
    "qexec(q)"
   ]
  },
  {
   "cell_type": "markdown",
   "metadata": {},
   "source": [
    "### Zadanie 3: Partycjonowanie tagów po roku"
   ]
  },
  {
   "cell_type": "code",
   "execution_count": null,
   "metadata": {},
   "outputs": [],
   "source": [
    "q = \"\"\"\n",
    "// Tworzenie tagu AI_2025\n",
    "CREATE (:Tag {name: 'AI_2025'});\n",
    "\n",
    "// Tworzenie 10k postów przypisanych tylko do partycji\n",
    "UNWIND range(1, 10000) AS i\n",
    "CREATE (p:Post {title: 'Post_2025_' + i, created_at: date('2025-01-01')})\n",
    "WITH p\n",
    "MATCH (t:Tag {name: 'AI_2025'})\n",
    "CREATE (p)-[:HAS_TAG]->(t);\n",
    "\"\"\"\n",
    "qexec(q)"
   ]
  },
  {
   "cell_type": "code",
   "execution_count": null,
   "metadata": {},
   "outputs": [],
   "source": [
    "query = \"\"\"\n",
    "// Zapytanie po partycjonowanym tagu\n",
    "MATCH (t:Tag {name: 'AI_2025'})<-[:HAS_TAG]-(p:Post)\n",
    "RETURN p.title\n",
    "LIMIT 5\n",
    "\"\"\"\n",
    "qexec(query)"
   ]
  },
  {
   "cell_type": "markdown",
   "metadata": {},
   "source": [
    "### Zadanie 4: Porównanie czasu zapytania"
   ]
  },
  {
   "cell_type": "code",
   "execution_count": null,
   "metadata": {},
   "outputs": [],
   "source": [
    "query = \"\"\"\n",
    "PROFILE MATCH (...) RETURN ...\n",
    "\"\"\"\n",
    "qexec(query)"
   ]
  },
  {
   "cell_type": "markdown",
   "metadata": {},
   "source": [
    "### Checklista: cecha jako węzeł czy właściwość?"
   ]
  },
  {
   "cell_type": "markdown",
   "metadata": {},
   "source": [
    "| Kryterium                                                                 | Odpowiedź | Zalecenie     |\n",
    "|---------------------------------------------------------------------------|-----------|----------------|\n",
    "| Czy wiele węzłów może dzielić tę samą cechę?                              | Tak       | Węzeł          |\n",
    "| Czy chcesz zadawać pytania w stylu: „Pokaż wszystkie węzły z tą cechą”?  | Tak       | Węzeł          |\n",
    "| Czy cecha ma własne właściwości (np. `name`, `created_at`)?              | Tak       | Węzeł          |\n",
    "| Czy cecha może mieć relacje z innymi węzłami?                             | Tak       | Węzeł          |\n",
    "| Czy cecha występuje wielokrotnie u jednego węzła (lista, zbiór)?         | Tak       | Węzeł          |\n",
    "| Czy chcesz analizować tę cechę jako część grafu (powiązania, agregacje)? | Tak       | Węzeł          |\n",
    "| Czy cecha jest unikalna tylko dla tego jednego węzła?                    | Tak       | Właściwość     |\n",
    "| Czy to prosty opis, bez relacji i analizy (np. wiek, status)?            | Tak       | Właściwość     |\n",
    "| Czy cecha jest używana do filtrowania lub indeksowania (np. `username`)? | Tak       | Właściwość     |\n",
    "| Czy zależy Ci na maksymalnej wydajności zapytań po tej cesze?            | Tak       | Właściwość     |\n"
   ]
  }
 ],
 "metadata": {
  "kernelspec": {
   "display_name": "nosql_venv",
   "language": "python",
   "name": "python3"
  },
  "language_info": {
   "codemirror_mode": {
    "name": "ipython",
    "version": 3
   },
   "file_extension": ".py",
   "mimetype": "text/x-python",
   "name": "python",
   "nbconvert_exporter": "python",
   "pygments_lexer": "ipython3",
   "version": "3.11.2"
  }
 },
 "nbformat": 4,
 "nbformat_minor": 2
}
