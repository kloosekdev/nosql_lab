{
 "cells": [
  {
   "cell_type": "markdown",
   "metadata": {},
   "source": [
    "### Answers to questions in the heo4j_design.ipynb notebook"
   ]
  },
  {
   "cell_type": "code",
   "execution_count": null,
   "metadata": {},
   "outputs": [],
   "source": [
    "# 1. Kto ma najwięcej znajomych?\n",
    "# - Wyświetl użytkowników i liczbę ich znajomych, posortowanych malejąco.\n",
    "\n",
    "q = \"\"\"\n",
    "MATCH (p:Person)-[:FRIENDS_WITH]->(friend)\n",
    "RETURN p.name AS user, count(friend) AS friends_count\n",
    "ORDER BY friends_count DESC\n",
    "\"\"\""
   ]
  },
  {
   "cell_type": "code",
   "execution_count": null,
   "metadata": {},
   "outputs": [],
   "source": [
    "# 2. Kto jest najaktywniejszy w grupach (najwięcej postów)?\n",
    "\n",
    "q = \"\"\"\n",
    "MATCH (p:Person)-[:POSTED]->(post)\n",
    "RETURN p.name AS user, count(post) AS post_count\n",
    "ORDER BY post_count DESC\n",
    "\"\"\""
   ]
  },
  {
   "cell_type": "code",
   "execution_count": null,
   "metadata": {},
   "outputs": [],
   "source": [
    "# 3. Jakie grupy są najpopularniejsze (najwięcej członków)?\n",
    "\n",
    "q = \"\"\"\n",
    "MATCH (p:Person)-[:MEMBER_OF]->(g:Group)\n",
    "RETURN g.name AS group, count(p) AS members_count\n",
    "ORDER BY members_count DESC\n",
    "\"\"\""
   ]
  },
  {
   "cell_type": "code",
   "execution_count": null,
   "metadata": {},
   "outputs": [],
   "source": [
    "# 4. Jacy użytkownicy są w tych samych grupach co Ala?\n",
    "\n",
    "q = \"\"\"\n",
    "MATCH (ala:Person {username: 'ala25'})-[:MEMBER_OF]->(g:Group)<-[:MEMBER_OF]-(other:Person)\n",
    "WHERE ala <> other\n",
    "RETURN DISTINCT other.name AS user\n",
    "\"\"\""
   ]
  },
  {
   "cell_type": "code",
   "execution_count": null,
   "metadata": {},
   "outputs": [],
   "source": [
    "# 5. Kto może znać kogo (rekomendacje znajomości przez wspólnych znajomych)?\n",
    "\n",
    "q = \"\"\"\n",
    "MATCH (a:Person {username: 'ala25'})-[:FRIENDS_WITH]->(commonFriend)-[:FRIENDS_WITH]->(potential)\n",
    "WHERE NOT (a)-[:FRIENDS_WITH]->(potential) AND a <> potential\n",
    "RETURN DISTINCT potential.name AS suggested_friend\n",
    "\"\"\""
   ]
  },
  {
   "cell_type": "code",
   "execution_count": null,
   "metadata": {},
   "outputs": [],
   "source": [
    "# 6. Średnia liczba znajomych na użytkownika?\n",
    "\n",
    "q = \"\"\"\n",
    "MATCH (p:Person)\n",
    "OPTIONAL MATCH (p)-[:FRIENDS_WITH]->(friend)\n",
    "WITH p, count(friend) AS cnt\n",
    "RETURN avg(cnt) AS avg_friends\n",
    "\"\"\""
   ]
  },
  {
   "cell_type": "code",
   "execution_count": null,
   "metadata": {},
   "outputs": [],
   "source": [
    "# 7. Najnowsze posty z każdej grupy\n",
    "\n",
    "q = \"\"\"\n",
    "MATCH (p:Post)-[:IN_GROUP]->(g:Group)\n",
    "RETURN g.name AS group, p.title AS post_title, p.created_at\n",
    "ORDER BY g.name, p.created_at DESC\n",
    "\"\"\""
   ]
  },
  {
   "cell_type": "code",
   "execution_count": null,
   "metadata": {},
   "outputs": [],
   "source": [
    "# 8. Kto publikuje najwięcej w konkretnej grupie (Board Gamers)?\n",
    "q = \"\"\"\n",
    "MATCH (p:Person)-[:POSTED]->(post)-[:IN_GROUP]->(g:Group {name: 'Board Gamers'})\n",
    "RETURN p.name AS user, count(post) AS posts\n",
    "ORDER BY posts DESC\n",
    "\"\"\""
   ]
  }
 ],
 "metadata": {
  "language_info": {
   "name": "python"
  }
 },
 "nbformat": 4,
 "nbformat_minor": 2
}
