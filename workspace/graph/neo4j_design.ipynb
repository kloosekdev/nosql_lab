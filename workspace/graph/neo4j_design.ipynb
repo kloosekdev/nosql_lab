{
 "cells": [
  {
   "cell_type": "markdown",
   "metadata": {},
   "source": [
    "Run: docker compose -f graph-docker-compose.yml up -d"
   ]
  },
  {
   "cell_type": "markdown",
   "metadata": {},
   "source": [
    "# Design - dobre praktyki\n",
    "\n",
    "### 1.  Modeluj dane jako graf, nie jak relacyjną bazę\n",
    "- Nie przenoś bezpośrednio tabel i JOIN-ów do grafu.\n",
    "- Skup się na relacjach jako pierwszorzędnych elementach – to właśnie one niosą najwięcej wartości.\n",
    "- Węzły to obiekty (np. User, Product); a relacje to zależności (:BOUGHT, :FRIENDS_WITH).\n",
    "\n",
    "### 2. Używaj właściwych etykiet (labels) i typów relacji\n",
    "- Każdy węzeł powinien mieć co najmniej jedną etykietę (:Person, :Movie); aby efektywnie filtrować.\n",
    "- Typ relacji (:LIKES, :KNOWS, :WORKS_AT) powinien być jednoznaczny – nie używaj zbyt ogólnych nazw.\n",
    "\n",
    "### 3. Indeksuj pola używane w wyszukiwaniu\n",
    "- Indeksy działają tylko na właściwościach węzłów – np. CREATE INDEX FOR (u:User) ON (u.username).\n",
    "- Neo4j sam używa indeksów w zapytaniach typu MATCH (u:User {username: \"jan\"}).\n",
    "\n",
    "### 4. Unikaj tworzenia tzw. super-węzłów\n",
    "- Węzły z tysiącami relacji (np. :Tag, :Category) mogą spowalniać zapytania.\n",
    "- Rozważ segmentację relacji lub dodatkowe właściwości filtrowania (np. czas, typ).\n",
    "\n",
    "### 5. Uprość model – mniej a lepiej\n",
    "- Lepsze są prostsze zapytania i krótsze ścieżki niż złożone relacje.\n",
    "- Unikaj „zagnieżdżania” danych we właściwościach – co może być w grafie, niech będzie w grafie.\n",
    "\n",
    "### 6. Projektuj pod konkretne zapytania (query-driven modeling)\n",
    "- Model dopasowuj do tego, co będą najczęściej robić użytkownicy/system.\n",
    "- Testuj zapytania z użyciem EXPLAIN i PROFILE, aby zobaczyć, jak Neo4j wykonuje je wewnętrznie.\n"
   ]
  },
  {
   "cell_type": "code",
   "execution_count": 1,
   "metadata": {},
   "outputs": [],
   "source": [
    "from neo4j import GraphDatabase\n",
    "import pandas as pd"
   ]
  },
  {
   "cell_type": "code",
   "execution_count": 2,
   "metadata": {},
   "outputs": [],
   "source": [
    "# Połączenie z Neo4j\n",
    "URI = \"bolt://neo4j_nosql_lab:7687\"\n",
    "USERNAME = \"neo4j\"\n",
    "PASSWORD = \"test1234\"  # upewnij się, że to pasuje do graph-docker-compose.yml"
   ]
  },
  {
   "cell_type": "code",
   "execution_count": 4,
   "metadata": {},
   "outputs": [],
   "source": [
    "q_list = [\n",
    "        # // CZYSZCZENIE\n",
    "        \"MATCH(n) DETACH DELETE n;\"\n",
    "\n",
    "        # // Węzły Person\n",
    "        , \"CREATE (:Person {name: 'Ala Nowak', username: 'ala25', age: 25});\"\n",
    "        , \"CREATE (:Person {name: 'Bartek Kowal', username: 'bartek_k', age: 30});\"\n",
    "        , \"CREATE (:Person {name: 'Cezary Lis', username: 'czarek', age: 28});\"\n",
    "        , \"CREATE (:Person {name: 'Daria Wiśniewska', username: 'daria', age: 26});\"\n",
    "        , \"CREATE (:Person {name: 'Emil Mazur', username: 'emil92', age: 27});\"\n",
    "        , \"CREATE (:Person {name: 'Felix Kowalski', username: 'felix', age: 29});\"\n",
    "        , \"CREATE (:Person {name: 'Fiona Nowak', username: 'fiona', age: 30});\"\n",
    "        , \"CREATE (:Person {name: 'Agata Wiśniewska', username: 'agata26', age: 26});\"\n",
    "        , \"CREATE (:Person {name: 'Maria Nowak', username: 'maria31', age: 31});\"\n",
    "        , \"CREATE (:Person {name: 'Michał Lisiecki', username: 'mich90', age: 28});\"\n",
    "        , \"CREATE (:Person {name: 'Robert Kwiecinski', username: 'robkw21', age: 21});\"\n",
    "        , \"CREATE (:Person {name: 'Norbert Smuga', username: 'smuga1', age: 38});\"\n",
    "        , \"CREATE (:Person {name: 'Grażyna Kowalska', username: 'grazyna1', age: 30});\"\n",
    "\n",
    "\n",
    "        # // Węzły Group\n",
    "        , \"CREATE (:Group {name: 'Data Science Club', topic: 'Machine Learning'});\"\n",
    "        , \"CREATE (:Group {name: 'Board Gamers', topic: 'Games & Social'});\"\n",
    "\n",
    "\n",
    "        # // Tworzenie indeksów\n",
    "        , \"DROP INDEX idx_person_username IF EXISTS;\"\n",
    "        , \"DROP INDEX idx_group_name IF EXISTS;\"\n",
    "        , \"CREATE INDEX idx_person_username FOR (p:Person) ON (p.username);\"\n",
    "        , \"CREATE INDEX idx_group_name FOR (g:Group) ON (g.name);\"\n",
    "\n",
    "\n",
    "        # // Relacje FRIENDS_WITH\n",
    "        , \"MATCH (a:Person {username: 'ala25'}), (b:Person {username: 'bartek_k'}) CREATE (a)-[:FRIENDS_WITH]->(b);\"\n",
    "        , \"MATCH (a:Person {username: 'bartek_k'}), (b:Person {username: 'czarek'}) CREATE (a)-[:FRIENDS_WITH]->(b);\"\n",
    "        , \"MATCH (a:Person {username: 'czarek'}), (b:Person {username: 'daria'}) CREATE (a)-[:FRIENDS_WITH]->(b);\"\n",
    "        , \"MATCH (a:Person {username: 'daria'}), (b:Person {username: 'emil92'}) CREATE (a)-[:FRIENDS_WITH]->(b);\"\n",
    "        , \"MATCH (a:Person {username: 'emil92'}), (b:Person {username: 'ala25'}) CREATE (a)-[:FRIENDS_WITH]->(b);\"\n",
    "        , \"MATCH (a:Person {username: 'fiona'}), (b:Person {username: 'felix'}) CREATE (a)-[:FRIENDS_WITH]->(b);\"\n",
    "        , \"MATCH (a:Person {username: 'felix'}), (b:Person {username: 'agata26'}) CREATE (a)-[:FRIENDS_WITH]->(b);\"\n",
    "        , \"MATCH (a:Person {username: 'agata26'}), (b:Person {username: 'maria31'}) CREATE (a)-[:FRIENDS_WITH]->(b);\"\n",
    "        , \"MATCH (a:Person {username: 'maria31'}), (b:Person {username: 'mich90'}) CREATE (a)-[:FRIENDS_WITH]->(b);\"\n",
    "        , \"MATCH (a:Person {username: 'mich90'}), (b:Person {username: 'robkw21'}) CREATE (a)-[:FRIENDS_WITH]->(b);\"\n",
    "        , \"MATCH (a:Person {username: 'robkw21'}), (b:Person {username: 'grazyna1'}) CREATE (a)-[:FRIENDS_WITH]->(b);\"\n",
    "        , \"MATCH (a:Person {username: 'grazyna1'}), (b:Person {username: 'smuga1'}) CREATE (a)-[:FRIENDS_WITH]->(b);\"\n",
    "        , \"MATCH (a:Person {username: 'smuga1'}), (b:Person {username: 'fiona'}) CREATE (a)-[:FRIENDS_WITH]->(b);\"\n",
    "        , \"MATCH (a:Person {username: 'fiona'}), (b:Person {username: 'maria31'}) CREATE (a)-[:FRIENDS_WITH]->(b);\"\n",
    "        , \"MATCH (a:Person {username: 'maria31'}), (b:Person {username: 'fiona'}) CREATE (a)-[:FRIENDS_WITH]->(b);\"\n",
    "        , \"MATCH (a:Person {username: 'mich90'}), (b:Person {username: 'agata26'}) CREATE (a)-[:FRIENDS_WITH]->(b);\"\n",
    "        , \"MATCH (a:Person {username: 'mich90'}), (b:Person {username: 'fiona'}) CREATE (a)-[:FRIENDS_WITH]->(b);\"\n",
    "        , \"MATCH (a:Person {username: 'fiona'}), (b:Person {username: 'mich90'}) CREATE (a)-[:FRIENDS_WITH]->(b);\"\n",
    "\n",
    "\n",
    "        # // Relacje MEMBER_OF\n",
    "        , \"MATCH (p:Person {username: 'ala25'}), (g:Group {name: 'Data Science Club'}) CREATE (p)-[:MEMBER_OF]->(g);\"\n",
    "        , \"MATCH (p:Person {username: 'bartek_k'}), (g:Group {name: 'Data Science Club'}) CREATE (p)-[:MEMBER_OF]->(g);\"\n",
    "        , \"MATCH (p:Person {username: 'daria'}), (g:Group {name: 'Board Gamers'}) CREATE (p)-[:MEMBER_OF]->(g);\"\n",
    "        , \"MATCH (p:Person {username: 'emil92'}), (g:Group {name: 'Board Gamers'}) CREATE (p)-[:MEMBER_OF]->(g);\"\n",
    "        , \"MATCH (p:Person {username: 'fiona'}), (g:Group {name: 'Board Gamers'}) CREATE (p)-[:MEMBER_OF]->(g);\"\n",
    "        , \"MATCH (p:Person {username: 'felix'}), (g:Group {name: 'Board Gamers'}) CREATE (p)-[:MEMBER_OF]->(g);\"\n",
    "        , \"MATCH (p:Person {username: 'maria31'}), (g:Group {name: 'Board Gamers'}) CREATE (p)-[:MEMBER_OF]->(g);\"\n",
    "        , \"MATCH (p:Person {username: 'mich90'}), (g:Group {name: 'Data Science Club'}) CREATE (p)-[:MEMBER_OF]->(g);\"\n",
    "        , \"MATCH (p:Person {username: 'agata26'}), (g:Group {name: 'Data Science Club'}) CREATE (p)-[:MEMBER_OF]->(g);\"\n",
    "        , \"MATCH (p:Person {username: 'robkw21'}), (g:Group {name: 'Data Science Club'}) CREATE (p)-[:MEMBER_OF]->(g);\"\n",
    "        , \"MATCH (p:Person {username: 'smuga1'}), (g:Group {name: 'Data Science Club'}) CREATE (p)-[:MEMBER_OF]->(g);\"\n",
    "        , \"MATCH (p:Person {username: 'grazyna1'}), (g:Group {name: 'Board Gamers'}) CREATE (p)-[:MEMBER_OF]->(g);\"\n",
    "        , \"MATCH (p:Person {username: 'mich90'}), (g:Group {name: 'Board Gamers'}) CREATE (p)-[:MEMBER_OF]->(g);\"\n",
    "        , \"MATCH (p:Person {username: 'agata26'}), (g:Group {name: 'Board Gamers'}) CREATE (p)-[:MEMBER_OF]->(g);\"\n",
    "        , \"MATCH (p:Person {username: 'robkw21'}), (g:Group {name: 'Board Gamers'}) CREATE (p)-[:MEMBER_OF]->(g);\"\n",
    "        , \"MATCH (p:Person {username: 'smuga1'}), (g:Group {name: 'Board Gamers'}) CREATE (p)-[:MEMBER_OF]->(g);\"\n",
    "        \n",
    "\n",
    "        # // Węzły Post i relacje POSTED + IN_GROUP\n",
    "        , \"CREATE (post:Post {title: 'Intro to ML', content: 'Great workshop on classification', created_at: date('2024-11-10')});\"\n",
    "        , \"\"\"MATCH (p:Person {username: 'ala25'}), (g:Group {name: 'Data Science Club'})\n",
    "        MATCH (post:Post {title: 'Intro to ML'})\n",
    "        CREATE (p)-[:POSTED]->(post)\n",
    "        CREATE (post)-[:IN_GROUP]->(g);\"\"\"\n",
    "\n",
    "        , \"CREATE (post:Post {title: 'ML, Next Steps', content: 'Become a Hero of ML!', created_at: date('2024-12-20')});\"\n",
    "        , \"\"\"MATCH (p:Person {username: 'mich90'}), (g:Group {name: 'Data Science Club'})\n",
    "        MATCH (post:Post {title: 'ML, Next Steps'})\n",
    "        CREATE (p)-[:POSTED]->(post)\n",
    "        CREATE (post)-[:IN_GROUP]->(g);\"\"\"\n",
    "\n",
    "        , \"CREATE (post:Post {title: 'Big Data - How To', content: 'How to get into Big Data World?', created_at: date('2023-08-09')});\"\n",
    "        , \"\"\"MATCH (p:Person {username: 'mich90'}), (g:Group {name: 'Data Science Club'})\n",
    "        MATCH (post:Post {title: 'Big Data - How To'})\n",
    "        CREATE (p)-[:POSTED]->(post)\n",
    "        CREATE (post)-[:IN_GROUP]->(g);\"\"\"\n",
    "\n",
    "        , \"CREATE (post:Post {title: 'Game night!', content: 'Settlers of Catan this Friday?', created_at: date('2025-03-01')});\"\n",
    "        , \"\"\"MATCH (p:Person {username: 'daria'}), (g:Group {name: 'Board Gamers'})\n",
    "        MATCH (post:Post {title: 'Game night!'})\n",
    "        CREATE (p)-[:POSTED]->(post)\n",
    "        CREATE (post)-[:IN_GROUP]->(g);\"\"\"\n",
    "\n",
    "        , \"CREATE (post:Post {title: 'Gamers Life', content: 'The long story of gamers', created_at: date('2025-02-01')});\"\n",
    "        , \"\"\"MATCH (p:Person {username: 'smuga1'}), (g:Group {name: 'Board Gamers'})\n",
    "        MATCH (post:Post {title: 'Gamers Life'})\n",
    "        CREATE (p)-[:POSTED]->(post)\n",
    "        CREATE (post)-[:IN_GROUP]->(g);\"\"\"\n",
    "\n",
    "        , \"CREATE (post:Post {title: 'The best of games', content: 'The best of games is a story...', created_at: date('2024-03-01')});\"\n",
    "        , \"\"\"MATCH (p:Person {username: 'robkw21'}), (g:Group {name: 'Board Gamers'})\n",
    "        MATCH (post:Post {title: 'The best of games'})\n",
    "        CREATE (p)-[:POSTED]->(post)\n",
    "        CREATE (post)-[:IN_GROUP]->(g);\"\"\"\n",
    "\n",
    "        , \"CREATE (post:Post {title: 'My first night session', content: 'My first night session - the story of Grażyna', created_at: date('2024-05-11')});\"\n",
    "        , \"\"\"MATCH (p:Person {username: 'grazyna1'}), (g:Group {name: 'Board Gamers'})\n",
    "        MATCH (post:Post {title: 'My first night session'})\n",
    "        CREATE (p)-[:POSTED]->(post)\n",
    "        CREATE (post)-[:IN_GROUP]->(g);\"\"\"\n",
    "\n",
    "        , \"CREATE (post:Post {title: 'Call of Duty - Tips and Tricks', content: 'Call of Duty - Masters tips and tricks', created_at: date('2025-02-21')});\"\n",
    "        , \"\"\"MATCH (p:Person {username: 'felix'}), (g:Group {name: 'Board Gamers'})\n",
    "        MATCH (post:Post {title: 'Call of Duty - Tips and Tricks'})\n",
    "        CREATE (p)-[:POSTED]->(post)\n",
    "        CREATE (post)-[:IN_GROUP]->(g);\"\"\"\n",
    "]"
   ]
  },
  {
   "cell_type": "markdown",
   "metadata": {},
   "source": [
    "### Optymalizacje zastosowane w datasetcie\n",
    "- Użycie indeksów na username i name dla szybkiego wyszukiwania.\n",
    "- Unikanie superwęzłów – grupy mają tylko kilku członków, posty są powiązane z grupą, nie wszystkimi użytkownikami.\n",
    "- Semantycznie jasne relacje (POSTED, IN_GROUP, MEMBER_OF, FRIENDS_WITH).\n",
    "- Podział informacji – post nie zawiera author_id jako właściwości, tylko osobną relację.\n",
    "- Model zgodny z query-driven design – łatwo znaleźć:\n",
    "    - posty użytkownika w grupie,\n",
    "    - członków grupy,\n",
    "    - znajomych znajomych."
   ]
  },
  {
   "cell_type": "code",
   "execution_count": 5,
   "metadata": {},
   "outputs": [
    {
     "name": "stdout",
     "output_type": "stream",
     "text": [
      "Połączono z Neo4j. Użyj funkcji `run_cypher('TWOJE_ZAPYTANIE')` aby wykonać zapytanie.\n"
     ]
    }
   ],
   "source": [
    "def run_cypher(query: str, driver):\n",
    "    with driver.session() as session:\n",
    "        result = session.run(query)\n",
    "        records = list(result)\n",
    "        if not records:\n",
    "            print(\"🔍 Brak wyników.\")\n",
    "            return\n",
    "        # Przekształcenie do DataFrame\n",
    "        df = pd.DataFrame([r.data() for r in records])\n",
    "        return df\n",
    "\n",
    "print(\"Połączono z Neo4j. Użyj funkcji `run_cypher('TWOJE_ZAPYTANIE')` aby wykonać zapytanie.\")\n",
    "\n",
    "def qexec(query: str):\n",
    "    driver = GraphDatabase.driver(URI, auth=(USERNAME, PASSWORD))\n",
    "    \n",
    "    df = run_cypher(query, driver)\n",
    "    \n",
    "    driver.close()\n",
    "    \n",
    "    return df"
   ]
  },
  {
   "cell_type": "code",
   "execution_count": null,
   "metadata": {},
   "outputs": [],
   "source": [
    "for q in q_list:\n",
    "    print(q)\n",
    "    qexec(q)"
   ]
  },
  {
   "cell_type": "markdown",
   "metadata": {},
   "source": [
    "### Ćwiczenia"
   ]
  },
  {
   "cell_type": "code",
   "execution_count": null,
   "metadata": {},
   "outputs": [],
   "source": [
    "# 1. Kto ma najwięcej znajomych?\n",
    "# - Wyświetl użytkowników i liczbę ich znajomych, posortowanych malejąco.\n",
    "\n",
    "q = \"\"\"\n",
    "...\n",
    "\"\"\"\n",
    "\n",
    "qexec(q)"
   ]
  },
  {
   "cell_type": "code",
   "execution_count": null,
   "metadata": {},
   "outputs": [],
   "source": [
    "# 2. Kto jest najaktywniejszy w grupach (najwięcej postów)?\n",
    "\n",
    "q = \"\"\"\n",
    "...\n",
    "\"\"\"\n",
    "\n",
    "qexec(q)"
   ]
  },
  {
   "cell_type": "code",
   "execution_count": null,
   "metadata": {},
   "outputs": [],
   "source": [
    "# 3. Jakie grupy są najpopularniejsze (najwięcej członków)?\n",
    "\n",
    "q = \"\"\"\n",
    "...\n",
    "\"\"\"\n",
    "\n",
    "qexec(q)"
   ]
  },
  {
   "cell_type": "code",
   "execution_count": null,
   "metadata": {},
   "outputs": [],
   "source": [
    "# 4. Jacy użytkownicy są w tych samych grupach co Ala?\n",
    "\n",
    "q = \"\"\"\n",
    "...\n",
    "\"\"\"\n",
    "\n",
    "qexec(q)"
   ]
  },
  {
   "cell_type": "code",
   "execution_count": null,
   "metadata": {},
   "outputs": [],
   "source": [
    "# 5. Kto może znać kogo (rekomendacje znajomości przez wspólnych znajomych)?\n",
    "\n",
    "q = \"\"\"\n",
    "...\n",
    "\"\"\"\n",
    "\n",
    "qexec(q)"
   ]
  },
  {
   "cell_type": "code",
   "execution_count": null,
   "metadata": {},
   "outputs": [],
   "source": [
    "# 6. Średnia liczba znajomych na użytkownika?\n",
    "\n",
    "q = \"\"\"\n",
    "...\n",
    "\"\"\"\n",
    "\n",
    "qexec(q)"
   ]
  },
  {
   "cell_type": "code",
   "execution_count": null,
   "metadata": {},
   "outputs": [],
   "source": [
    "# 7. Najnowsze posty z każdej grupy\n",
    "\n",
    "q = \"\"\"\n",
    "...\n",
    "\"\"\"\n",
    "\n",
    "qexec(q)"
   ]
  },
  {
   "cell_type": "code",
   "execution_count": null,
   "metadata": {},
   "outputs": [],
   "source": [
    "# 8. Kto publikuje najwięcej w konkretnej grupie (Board Gamers)?\n",
    "\n",
    "q = \"\"\"\n",
    "...\n",
    "\"\"\"\n",
    "\n",
    "qexec(q)"
   ]
  }
 ],
 "metadata": {
  "kernelspec": {
   "display_name": "nosql_venv",
   "language": "python",
   "name": "python3"
  },
  "language_info": {
   "codemirror_mode": {
    "name": "ipython",
    "version": 3
   },
   "file_extension": ".py",
   "mimetype": "text/x-python",
   "name": "python",
   "nbconvert_exporter": "python",
   "pygments_lexer": "ipython3",
   "version": "3.11.2"
  }
 },
 "nbformat": 4,
 "nbformat_minor": 2
}
